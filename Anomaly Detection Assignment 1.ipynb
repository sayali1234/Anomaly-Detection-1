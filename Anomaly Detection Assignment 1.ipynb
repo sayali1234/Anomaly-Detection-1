{
 "cells": [
  {
   "cell_type": "markdown",
   "id": "42539261-d33b-4eef-9751-bc84cf5c0c37",
   "metadata": {},
   "source": [
    "Q1) What is anomaly detection and what is its purpose?"
   ]
  },
  {
   "cell_type": "markdown",
   "id": "860f9971-071a-471f-947e-525059cecb29",
   "metadata": {},
   "source": [
    "Answer:"
   ]
  },
  {
   "cell_type": "markdown",
   "id": "8f049d24-2fd4-46d4-9466-55044ecf047e",
   "metadata": {},
   "source": [
    "Anomaly detection is a process of identifying data points, events, or patterns that deviate significantly from the expected or normal behavior of a system or process. Anomaly detection is commonly used in various fields such as finance, healthcare, cybersecurity, and industrial manufacturing to detect unusual behavior that could indicate fraud, errors, system malfunctions, or potential threats.\n",
    "\n",
    "The purpose of anomaly detection is to identify and flag such anomalies, which could otherwise go unnoticed and cause significant problems or losses. Anomaly detection can help organizations detect and prevent fraud, optimize system performance, enhance security, and ensure regulatory compliance. By identifying and addressing anomalies early on, organizations can take proactive measures to mitigate potential risks and avoid costly consequences."
   ]
  },
  {
   "cell_type": "markdown",
   "id": "709c1b1b-4209-4f6e-a78f-cebf21358dfc",
   "metadata": {},
   "source": [
    "Q2) What are the key challenges in anomaly detection?"
   ]
  },
  {
   "cell_type": "markdown",
   "id": "ec8c48b4-aaf1-4319-b96f-7e3973dab42d",
   "metadata": {},
   "source": [
    "Answer:"
   ]
  },
  {
   "cell_type": "markdown",
   "id": "96100014-665f-4a60-8648-9b5a476b5aa8",
   "metadata": {},
   "source": [
    "There are several key challenges in anomaly detection, including:\n",
    "\n",
    "1. Unlabeled data: In many cases, anomalies are rare and occur infrequently, making it difficult to have enough labeled data for model training. This makes it challenging to build accurate anomaly detection models.\n",
    "\n",
    "2. High dimensionality: Many datasets used in anomaly detection are high-dimensional, meaning they have a large number of features or variables. This can make it difficult to identify which features are most important and can lead to the \"curse of dimensionality\" problem.\n",
    "\n",
    "3. Data imbalance: Anomalies are often rare events, which can result in data imbalance, making it challenging to train models to detect them.\n",
    "\n",
    "4. Concept drift: The distribution of data can change over time, which can make previously trained models ineffective in detecting new anomalies. This is known as concept drift and requires frequent model retraining.\n",
    "\n",
    "5. Interpretability: Anomaly detection models can be complex and difficult to interpret, making it challenging to understand why a particular data point is flagged as an anomaly.\n",
    "\n",
    "6. False positives and false negatives: Anomaly detection models may generate false positives, flagging normal data as anomalies, or false negatives, missing actual anomalies, which can result in either costly false alarms or missed detections.\n",
    "\n",
    "Addressing these challenges requires advanced algorithms, feature engineering, appropriate data preprocessing, and a deep understanding of the domain and the data being analyzed."
   ]
  },
  {
   "cell_type": "markdown",
   "id": "ad799747-0b84-4773-a3fa-ebcda3a3735c",
   "metadata": {},
   "source": [
    "Q3) How does unsupervised anomaly detection differ from supervised anomaly detection?"
   ]
  },
  {
   "cell_type": "markdown",
   "id": "71e85462-d72c-40d1-b426-48d4b5795855",
   "metadata": {},
   "source": [
    "Answer:"
   ]
  },
  {
   "cell_type": "markdown",
   "id": "18affa09-25d1-4667-b5ae-b04b080b7699",
   "metadata": {},
   "source": [
    "Unsupervised anomaly detection and supervised anomaly detection differ primarily in how they use labeled data for training and detecting anomalies.\n",
    "\n",
    "In unsupervised anomaly detection, the data used for training does not contain any labeled anomalies, and the model must learn to identify anomalies based solely on the structure and distribution of the data. This means that the model must identify patterns in the data that deviate significantly from what it has learned as \"normal\" behavior. Unsupervised anomaly detection methods include clustering, density estimation, and dimensionality reduction techniques.\n",
    "\n",
    "In contrast, supervised anomaly detection uses labeled data to train a model that can differentiate between normal and anomalous data points. The model learns to recognize the features that are most indicative of an anomaly and then uses these features to classify new data points as either normal or anomalous. Supervised anomaly detection methods include classification algorithms such as support vector machines, decision trees, and neural networks.\n",
    "\n",
    "The key difference between the two approaches is the availability of labeled data. Supervised methods require labeled data, which may not always be available, while unsupervised methods do not require labeled data and are more appropriate for scenarios where labeled data is scarce or unavailable. However, supervised methods tend to be more accurate than unsupervised methods since they can learn from labeled data and provide more reliable classifications."
   ]
  },
  {
   "cell_type": "markdown",
   "id": "06716dd3-2564-4817-997d-bdb1daebf90d",
   "metadata": {},
   "source": [
    "Q4) What are the main categories of anomaly detection algorithms?"
   ]
  },
  {
   "cell_type": "markdown",
   "id": "79a9a279-d34d-41cc-b2de-9fec8ac64fdf",
   "metadata": {},
   "source": [
    "Answer:"
   ]
  },
  {
   "cell_type": "markdown",
   "id": "c4d9860d-a60f-4f3f-86d5-0ce1d239f67d",
   "metadata": {},
   "source": [
    "The main categories of anomaly detection algorithms include:\n",
    "\n",
    "1. Statistical-based methods: These methods rely on statistical models to identify data points that deviate significantly from the expected behavior. Examples of statistical-based methods include Gaussian Mixture Models (GMM), Principal Component Analysis (PCA), and Time-series Analysis.\n",
    "\n",
    "2. Machine learning-based methods: These methods use machine learning algorithms to learn the patterns of normal behavior in the data and detect deviations from these patterns. Examples of machine learning-based methods include Support Vector Machines (SVM), Decision Trees, Random Forests, and Neural Networks.\n",
    "\n",
    "3. Clustering-based methods: These methods group similar data points together and identify data points that do not belong to any cluster as anomalies. Examples of clustering-based methods include K-means, DBSCAN, and Hierarchical Clustering.\n",
    "\n",
    "4. Density-based methods: These methods identify anomalies based on deviations from the density of the data. Examples of density-based methods include Local Outlier Factor (LOF), Isolation Forests, and Kernel Density Estimation.\n",
    "\n",
    "5. Rule-based methods: These methods define rules or thresholds that identify data points that fall outside of the expected range. Examples of rule-based methods include statistical process control and expert systems.\n",
    "\n",
    "Each category of anomaly detection methods has its strengths and weaknesses, and the appropriate method depends on the type of data, the context of the problem, and the specific requirements of the application."
   ]
  },
  {
   "cell_type": "markdown",
   "id": "1a79f12d-972e-4be0-b6c2-a6fe9b3e7e07",
   "metadata": {},
   "source": [
    "Q5) What are the main assumptions made by distance-based anomaly detection methods?"
   ]
  },
  {
   "cell_type": "markdown",
   "id": "f035ddc9-e4df-47e0-b0af-d8a94763fac0",
   "metadata": {},
   "source": [
    "Answer:"
   ]
  },
  {
   "cell_type": "markdown",
   "id": "41af8e87-b691-463d-a1ba-2e200f661df9",
   "metadata": {},
   "source": [
    "Distance-based anomaly detection methods rely on the assumption that normal data points are clustered tightly together, while anomalies are far away from the normal cluster. The main assumptions made by distance-based anomaly detection methods are:\n",
    "\n",
    "1. Normal data points are close to each other: Distance-based methods assume that normal data points are similar to each other and form a tight cluster, while anomalies are far from the cluster. This assumption is based on the intuition that normal behavior is repetitive and predictable.\n",
    "\n",
    "2. Anomalies are isolated: Distance-based methods assume that anomalies are isolated data points that are far from the normal cluster. This assumption is based on the idea that anomalies are rare and occur infrequently, making them outliers in the data.\n",
    "\n",
    "3. Distance metric is appropriate: Distance-based methods rely on a distance metric to measure the similarity between data points. The assumption is that the distance metric used is appropriate for the data and can accurately capture the similarity between data points.\n",
    "\n",
    "4. Data is numerical: Distance-based methods assume that the data is numerical and can be represented as points in a high-dimensional space. This assumption makes it challenging to apply distance-based methods to categorical or text data.\n",
    "\n",
    "It is essential to validate these assumptions before applying distance-based anomaly detection methods to a specific dataset. If the assumptions are not met, the results of the analysis may be unreliable, and other anomaly detection methods may be more appropriate."
   ]
  },
  {
   "cell_type": "markdown",
   "id": "1b5cf3de-266c-499a-9925-63a3306ad82f",
   "metadata": {},
   "source": [
    "Q6) How does the LOF algorithm compute anomaly scores?"
   ]
  },
  {
   "cell_type": "markdown",
   "id": "80b4c2e5-7236-443b-8184-34ed536e8dce",
   "metadata": {},
   "source": [
    "Answer:"
   ]
  },
  {
   "cell_type": "markdown",
   "id": "ddcde93a-d2ad-4ae2-8dbc-a3716048f163",
   "metadata": {},
   "source": [
    "The Local Outlier Factor (LOF) algorithm computes anomaly scores by measuring the local density of a data point with respect to its neighbors. The LOF algorithm identifies data points that have a significantly lower density than their neighbors as anomalies.\n",
    "\n",
    "The algorithm works as follows:\n",
    "\n",
    "1. For each data point, identify its k nearest neighbors based on a distance metric (e.g., Euclidean distance). The value of k is a user-defined parameter.\n",
    "\n",
    "2. Compute the local reachability density (LRD) of the data point as the inverse of the average distance between the data point and its k nearest neighbors.\n",
    "\n",
    "3. Compute the local outlier factor (LOF) of the data point as the average LRD of its k nearest neighbors divided by its own LRD.\n",
    "\n",
    "4. Anomalies are identified as data points with an LOF score that is significantly higher than the LOF scores of their neighbors. The threshold for identifying anomalies is also a user-defined parameter.\n",
    "\n",
    "Intuitively, the LOF algorithm computes the density of a data point in relation to its neighbors and identifies data points that are significantly less dense than their neighbors as anomalies. This approach can detect anomalies that are not isolated, but rather exist in low-density regions of the data.\n",
    "\n",
    "The LOF algorithm is widely used in anomaly detection applications and is especially useful for datasets with non-uniform density distributions."
   ]
  },
  {
   "cell_type": "markdown",
   "id": "2ad971e4-9d2f-4e75-97f6-3b3676e1ae98",
   "metadata": {},
   "source": [
    "Q7) What are the key parameters of the Isolation Forest algorithm?"
   ]
  },
  {
   "cell_type": "markdown",
   "id": "8d3001a4-fd0d-4906-8291-32f585b89af3",
   "metadata": {},
   "source": [
    "Answer:"
   ]
  },
  {
   "cell_type": "markdown",
   "id": "0b0b874f-471f-4f93-9615-756e62e55db7",
   "metadata": {},
   "source": [
    "The Isolation Forest algorithm is a popular unsupervised anomaly detection algorithm that works by isolating anomalies in a forest of decision trees. The algorithm has two key parameters:\n",
    "\n",
    "1. Number of trees (n_estimators): This parameter determines the number of decision trees to be created in the forest. Increasing the number of trees can improve the accuracy of anomaly detection, but also increases the computational cost and memory requirements of the algorithm.\n",
    "\n",
    "2. Subsample size (max_samples): This parameter determines the number of data points to be randomly selected for each tree in the forest. Setting a smaller subsample size can reduce the computational cost of the algorithm and improve its ability to detect anomalies in large datasets.\n",
    "\n",
    "In addition to these two key parameters, the Isolation Forest algorithm also has other hyperparameters that can be tuned to improve the performance of the algorithm. These hyperparameters include:\n",
    "\n",
    "3. Maximum tree depth (max_depth): This parameter determines the maximum depth of each decision tree in the forest. A deeper tree can capture more complex patterns in the data, but may also overfit the data and reduce the generalizability of the algorithm.\n",
    "\n",
    "4. Number of features to consider for each split (max_features): This parameter determines the number of features to consider for each split in the decision tree. A smaller value of max_features can improve the diversity of the trees in the forest and reduce overfitting.\n",
    "\n",
    "5. Contamination: This parameter determines the expected proportion of anomalies in the data. This parameter is used to calculate a threshold for identifying anomalies based on the anomaly score computed by the algorithm.\n",
    "\n",
    "Choosing appropriate values for these hyperparameters is critical for the performance of the Isolation Forest algorithm. Grid search and cross-validation techniques can be used to find the optimal values of these hyperparameters for a specific dataset."
   ]
  },
  {
   "cell_type": "markdown",
   "id": "96fdee70-daac-4f51-9dff-2f81ae642a10",
   "metadata": {},
   "source": [
    "Q8) If a data point has only 2 neighbours of the same class within a radius of 0.5, what is its anomaly score\n",
    "using KNN with K=10?"
   ]
  },
  {
   "cell_type": "markdown",
   "id": "083df26a-c78f-4107-b643-878794c4d498",
   "metadata": {},
   "source": [
    "Answer:"
   ]
  },
  {
   "cell_type": "markdown",
   "id": "83197b34-289f-4060-93f5-8e09321d8bca",
   "metadata": {},
   "source": [
    "To compute the anomaly score of a data point using K-nearest neighbors (KNN) with K=10, we need to identify the distance between the data point and its 10th nearest neighbor. If the distance is large, the data point is likely to be an anomaly.\n",
    "\n",
    "In this case, the data point has only 2 neighbors of the same class within a radius of 0.5. Since K=10, we need to find the distance between the data point and its 10th nearest neighbor. If the data point has only 2 neighbors within a radius of 0.5, it is unlikely that it will have 10 neighbors within the same radius. Therefore, we cannot compute the anomaly score of the data point using KNN with K=10.\n",
    "\n",
    "However, if we still want to compute the anomaly score using KNN with K=10, we can extend the distance radius until we find 10 neighbors. For example, if we extend the radius to 1, we may find 10 neighbors. We can then compute the distance between the data point and its 10th nearest neighbor and use it to compute the anomaly score. The larger the distance, the higher the anomaly score.\n",
    "\n",
    "Anomaly Score = 1 / (average distance to k nearest neighbors)"
   ]
  },
  {
   "cell_type": "markdown",
   "id": "35b3e022-d632-4998-bd47-ee6b476564d9",
   "metadata": {},
   "source": [
    "Q9) Using the Isolation Forest algorithm with 100 trees and a dataset of 3000 data points, what is the\n",
    "anomaly score for a data point that has an average path length of 5.0 compared to the average path\n",
    "length of the trees?"
   ]
  },
  {
   "cell_type": "markdown",
   "id": "c5c7aaad-2796-4ed8-8ae3-d0a8b457d793",
   "metadata": {},
   "source": [
    "Answer:"
   ]
  },
  {
   "cell_type": "markdown",
   "id": "e5a00f77-ac69-437d-9146-dbf09e560221",
   "metadata": {},
   "source": [
    "The Isolation Forest algorithm generates a forest of decision trees, where each data point is isolated in a different partition of the feature space. The anomaly score of a data point is computed based on the average path length of the data point in the trees of the forest.\n",
    "\n",
    "If a data point has an average path length of 5.0 compared to the average path length of the trees, we can compute its anomaly score using the following formula:\n",
    "\n",
    "Anomaly Score = 2^(-average path length / c(n))\n",
    "\n",
    "where c(n) is a constant that depends on the number of data points n in the dataset. The value of c(n) can be computed as:\n",
    "\n",
    "c(n) = 2 * H(n-1) - (2 * (n-1) / n)\n",
    "\n",
    "where H(n-1) is the harmonic number of n-1.\n",
    "\n",
    "For a dataset of 3000 data points, c(n) can be computed as:\n",
    "\n",
    "c(3000) = 2 * H(2999) - (2 * 2999 / 3000) = 11.8979\n",
    "\n",
    "Using this value of c(n), we can compute the anomaly score of the data point with an average path length of 5.0 as:\n",
    "\n",
    "Anomaly Score = 2^(-5.0 / 11.8979) = 0.5017\n",
    "\n",
    "This indicates that the data point is less anomalous than a data point with an average path length that is farther from the average path length of the trees.\n",
    "\n",
    "Below is manual method to calulate anomaly score in python :"
   ]
  },
  {
   "cell_type": "code",
   "execution_count": null,
   "id": "7f96a171-4b7c-4947-933a-9c868622602b",
   "metadata": {},
   "outputs": [],
   "source": []
  }
 ],
 "metadata": {
  "kernelspec": {
   "display_name": "Python 3 (ipykernel)",
   "language": "python",
   "name": "python3"
  },
  "language_info": {
   "codemirror_mode": {
    "name": "ipython",
    "version": 3
   },
   "file_extension": ".py",
   "mimetype": "text/x-python",
   "name": "python",
   "nbconvert_exporter": "python",
   "pygments_lexer": "ipython3",
   "version": "3.10.8"
  }
 },
 "nbformat": 4,
 "nbformat_minor": 5
}
